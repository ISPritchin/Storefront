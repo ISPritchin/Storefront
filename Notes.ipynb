{
 "cells": [
  {
   "cell_type": "markdown",
   "source": [
    "Импортирование модели:"
   ],
   "metadata": {
    "collapsed": false,
    "pycharm": {
     "name": "#%% md\n"
    }
   }
  },
  {
   "cell_type": "code",
   "execution_count": null,
   "outputs": [],
   "source": [
    "from store.models import Product #"
   ],
   "metadata": {
    "collapsed": false,
    "pycharm": {
     "name": "#%%\n"
    }
   }
  },
  {
   "cell_type": "markdown",
   "source": [
    "# Запросы на получение данных\n",
    "\n",
    "Получение всех записей:"
   ],
   "metadata": {
    "collapsed": false,
    "pycharm": {
     "name": "#%% md\n"
    }
   }
  },
  {
   "cell_type": "code",
   "execution_count": null,
   "outputs": [],
   "source": [
    "Product.objects.all()"
   ],
   "metadata": {
    "collapsed": false,
    "pycharm": {
     "name": "#%%\n"
    }
   }
  },
  {
   "cell_type": "markdown",
   "source": [
    "Получить запись со значением первичного ключа равного единице (при этом указание имени первичного ключа не требуется):"
   ],
   "metadata": {
    "collapsed": false,
    "pycharm": {
     "name": "#%% md\n"
    }
   }
  },
  {
   "cell_type": "code",
   "execution_count": null,
   "outputs": [],
   "source": [
    "Product.objects.get(pk=1)"
   ],
   "metadata": {
    "collapsed": false,
    "pycharm": {
     "name": "#%%\n"
    }
   }
  },
  {
   "cell_type": "markdown",
   "source": [],
   "metadata": {
    "collapsed": false,
    "pycharm": {
     "name": "#%% md\n"
    }
   }
  },
  {
   "cell_type": "markdown",
   "source": [
    "Если нет записи с таким значением первичного ключа, будет выдано исключение `ObjectDoesNotExist`:"
   ],
   "metadata": {
    "collapsed": false,
    "pycharm": {
     "name": "#%% md\n"
    }
   }
  },
  {
   "cell_type": "code",
   "execution_count": null,
   "outputs": [],
   "source": [
    "from django.core.exceptions import ObjectDoesNotExist\n",
    "\n",
    "Product.objects.get(pk=0)"
   ],
   "metadata": {
    "collapsed": false,
    "pycharm": {
     "name": "#%%\n"
    }
   }
  },
  {
   "cell_type": "markdown",
   "source": [
    "В данном случае будет возвращен набор записей. Если записей нет -- набор будет пустым:"
   ],
   "metadata": {
    "collapsed": false,
    "pycharm": {
     "name": "#%% md\n"
    }
   }
  },
  {
   "cell_type": "code",
   "execution_count": null,
   "outputs": [],
   "source": [
    "Product.objects.filter(pk=0)"
   ],
   "metadata": {
    "collapsed": false,
    "pycharm": {
     "name": "#%%\n"
    }
   }
  },
  {
   "cell_type": "markdown",
   "source": [
    "Если использовать метод `.first()` то он вернёт первый объект при наличии или значение `None` если объект не найден:"
   ],
   "metadata": {
    "collapsed": false,
    "pycharm": {
     "name": "#%% md\n"
    }
   }
  },
  {
   "cell_type": "code",
   "execution_count": null,
   "outputs": [],
   "source": [
    "Product.objects.filter(pk=0).first()"
   ],
   "metadata": {
    "collapsed": false,
    "pycharm": {
     "name": "#%%\n"
    }
   }
  },
  {
   "cell_type": "markdown",
   "source": [
    "# Отбор данных"
   ],
   "metadata": {
    "collapsed": false,
    "pycharm": {
     "name": "#%% md\n"
    }
   }
  },
  {
   "cell_type": "code",
   "execution_count": null,
   "outputs": [],
   "source": [
    "Product.objects.filter(unit_price=20) # цена равна 20\n",
    "Product.objects.filter(unit_price__in=(1, 2, 5)) # цена равна 1 2 или 5\n",
    "Product.objects.filter(unit_price__gt=20) # цена больше 20\n",
    "Product.objects.filter(unit_price__range=(1, 5)) # цена от 1 до 5\n",
    "Product.objects.filter(title__icontains=\"coffee\") # содержит строку \"coffee\" без учета регистра\n",
    "Product.objects.filter(title__istartswith=\"coffee\") # начинается со строки \"coffee\" без учета регистра\n",
    "Product.objects.filter(last_update__year=2020) # год последнего обновления 2020"
   ],
   "metadata": {
    "collapsed": false,
    "pycharm": {
     "name": "#%%\n"
    }
   }
  },
  {
   "cell_type": "code",
   "execution_count": null,
   "outputs": [],
   "source": [
    "from django.db.models import Q, F\n",
    "\n",
    "Product.objects.filter(unit_price__gt=20, title__istartswith=\"coffee\") # стоимость больше 20, заголовок начинается с \"coffee\"\n",
    "Product.objects.filter(Q(unit_price__gt=80) | Q(title__istartswith=\"coffee\")) # стоимость больше 80 ИЛИ заголовок начинается с \"coffee\"\n",
    "Product.objects.filter(~Q(unit_price__gt=80) & Q(title__istartswith=\"coffee\")) # стоимость меньше или равна 80 и заголовок начинается с \"coffee\"\n",
    "\n",
    "Product.objects.filter(unit_price__gt=2 * F(\"inventory\")) # стоимость больше, чем запас склада умноженный на 2"
   ],
   "metadata": {
    "collapsed": false,
    "pycharm": {
     "name": "#%%\n"
    }
   }
  },
  {
   "cell_type": "markdown",
   "source": [
    "# Сортировка данных"
   ],
   "metadata": {
    "collapsed": false,
    "pycharm": {
     "name": "#%% md\n"
    }
   }
  },
  {
   "cell_type": "code",
   "execution_count": null,
   "outputs": [],
   "source": [
    "Product.objects.order_by(\"unit_price\") # сортировка по не убыванию цены\n",
    "Product.objects.order_by(\"-unit_price\") # сортировка по не возрастанию цены\n",
    "Product.objects.order_by(\"-inventory\", \"title\") # сортировка по не возрастанию запаса на складе, при равном значении номеров -- по названию\n",
    "\n",
    "# получение самого дорогого товара (вернут один объект)\n",
    "Product.objects.order_by(\"-unit_price\")[0]\n",
    "Product.objects.latest(\"unit_price\")\n",
    "\n",
    "# получение самого дешевого товара (вернут один объект)\n",
    "Product.objects.order_by(\"unit_price\")[0]\n",
    "Product.objects.earliest(\"unit_price\")\n",
    "\n",
    "# вывод первых десяти записей\n",
    "Product.objects.order_by(\"unit_price\")[:10]\n",
    "# вывод следующих десяти записей\n",
    "Product.objects.order_by(\"unit_price\")[10:20]"
   ],
   "metadata": {
    "collapsed": false,
    "pycharm": {
     "name": "#%%\n"
    }
   }
  },
  {
   "cell_type": "markdown",
   "source": [
    "# Выбор полей для формирования результата"
   ],
   "metadata": {
    "collapsed": false,
    "pycharm": {
     "name": "#%% md\n"
    }
   }
  },
  {
   "cell_type": "code",
   "execution_count": null,
   "outputs": [],
   "source": [
    "# получение набора объектов с id и значением заголовка из таблицы collection_title\n",
    "Product.objects.values('id', 'collection__title') # вернёт набор словарей"
   ],
   "metadata": {
    "collapsed": false,
    "pycharm": {
     "name": "#%%\n"
    }
   }
  },
  {
   "cell_type": "code",
   "execution_count": null,
   "outputs": [],
   "source": [
    "Product.objects.values_list('id', 'collection__title') # вернёт набор кортежей"
   ],
   "metadata": {
    "collapsed": false,
    "pycharm": {
     "name": "#%%\n"
    }
   }
  },
  {
   "cell_type": "code",
   "execution_count": null,
   "outputs": [],
   "source": [
    "from store.models import OrderItem\n",
    "\n",
    "OrderItem.objects.values('product_id').distinct() # получение уникальных наборов данных из словарей с ключом product_id"
   ],
   "metadata": {
    "collapsed": false,
    "pycharm": {
     "name": "#%%\n"
    }
   }
  },
  {
   "cell_type": "code",
   "execution_count": null,
   "outputs": [],
   "source": [
    "ids = OrderItem.objects.values('product_id').distinct()\n",
    "Product.objects.filter(id__in=ids)"
   ],
   "metadata": {
    "collapsed": false,
    "pycharm": {
     "name": "#%%\n"
    }
   }
  },
  {
   "cell_type": "code",
   "execution_count": null,
   "outputs": [],
   "source": [
    "Product.objects.only('title') # работает как values и возвращает объекты, но если запрашиваемая страница будет требовать значений других полей, последует множество SELECT запросов с целью найти значение тех полей"
   ],
   "metadata": {
    "collapsed": false,
    "pycharm": {
     "name": "#%%\n"
    }
   }
  },
  {
   "cell_type": "code",
   "execution_count": null,
   "outputs": [],
   "source": [
    "Product.objects.only('title') # работает как only только перечисляются поля, которые не должны попасть в создаваемый объект"
   ],
   "metadata": {
    "collapsed": false,
    "pycharm": {
     "name": "#%%\n"
    }
   }
  },
  {
   "cell_type": "code",
   "execution_count": null,
   "outputs": [],
   "source": [
    "product_join_collection = Product.objects.select_related('collection').all()"
   ],
   "metadata": {
    "collapsed": false,
    "pycharm": {
     "name": "#%%\n"
    }
   }
  },
  {
   "cell_type": "markdown",
   "source": [
    "# Вычисляемые столбцы"
   ],
   "metadata": {
    "collapsed": false,
    "pycharm": {
     "name": "#%% md\n"
    }
   }
  },
  {
   "cell_type": "code",
   "source": [
    "from django.db.models import Value\n",
    "\n",
    "Product.objects.annotate(is_new=Value(False)) # добавить столбец is_new со значением False"
   ],
   "metadata": {
    "collapsed": false,
    "pycharm": {
     "name": "#%%\n"
    }
   },
   "execution_count": null,
   "outputs": []
  },
  {
   "cell_type": "code",
   "execution_count": null,
   "outputs": [],
   "source": [
    "Product.objects.annotate(new_price=F(\"unit_price\") * 2) # добавить вычисляемый столбец со значением цены, умноженной на 2"
   ],
   "metadata": {
    "collapsed": false,
    "pycharm": {
     "name": "#%%\n"
    }
   }
  },
  {
   "cell_type": "code",
   "execution_count": null,
   "outputs": [],
   "source": [
    "# использование функций, предоставляемых базой данных\n",
    "from django.db.models import Func\n",
    "\n",
    "from store.models import Customer\n",
    "\n",
    "Customer.objects.annotate(\n",
    "    full_name=Func(F('first_name'), Value(' '), F('last_name'), function='CONCAT')\n",
    ")"
   ],
   "metadata": {
    "collapsed": false,
    "pycharm": {
     "name": "#%%\n"
    }
   }
  },
  {
   "cell_type": "code",
   "execution_count": null,
   "outputs": [],
   "source": [
    "# аналогично, но короче\n",
    "from django.db.models.functions import Concat\n",
    "\n",
    "Customer.objects.annotate(\n",
    "    full_name=Concat(F('first_name'), Value(' '), F('last_name'))\n",
    ")"
   ],
   "metadata": {
    "collapsed": false,
    "pycharm": {
     "name": "#%%\n"
    }
   }
  },
  {
   "cell_type": "markdown",
   "source": [
    "# Группировка"
   ],
   "metadata": {
    "collapsed": false,
    "pycharm": {
     "name": "#%% md\n"
    }
   }
  },
  {
   "cell_type": "code",
   "execution_count": null,
   "outputs": [],
   "source": [
    "from django.db.models import Count\n",
    "\n",
    "Customer.objects.annotate(\n",
    "    order_count=Count('order')\n",
    ")"
   ],
   "metadata": {
    "collapsed": false,
    "pycharm": {
     "name": "#%%\n"
    }
   }
  },
  {
   "cell_type": "code",
   "execution_count": null,
   "outputs": [],
   "source": [
    "from django.db.models import ExpressionWrapper, DecimalField\n",
    "\n",
    "discounted_price = ExpressionWrapper(F('unit_price') * 0.8,\n",
    "                                     output_field=DecimalField())"
   ],
   "metadata": {
    "collapsed": false,
    "pycharm": {
     "name": "#%%\n"
    }
   }
  }
 ],
 "metadata": {
  "kernelspec": {
   "display_name": "Python 3",
   "language": "python",
   "name": "python3"
  },
  "language_info": {
   "codemirror_mode": {
    "name": "ipython",
    "version": 2
   },
   "file_extension": ".py",
   "mimetype": "text/x-python",
   "name": "python",
   "nbconvert_exporter": "python",
   "pygments_lexer": "ipython2",
   "version": "2.7.6"
  }
 },
 "nbformat": 4,
 "nbformat_minor": 0
}